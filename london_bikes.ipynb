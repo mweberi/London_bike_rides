{
 "cells": [
  {
   "cell_type": "markdown",
   "id": "db7a8e44-3bf0-4aad-9a3d-6363f890d84d",
   "metadata": {},
   "source": [
    "# Import pandas package"
   ]
  },
  {
   "cell_type": "code",
   "execution_count": 6,
   "id": "63332b47-d97b-4a75-a548-91be229c50b1",
   "metadata": {},
   "outputs": [],
   "source": [
    "import pandas as pd"
   ]
  },
  {
   "cell_type": "markdown",
   "id": "b0ddb892-db15-4ad4-9bbe-319c87949949",
   "metadata": {},
   "source": [
    "# Read csv to dataframe"
   ]
  },
  {
   "cell_type": "code",
   "execution_count": 41,
   "id": "2fbd2282-63cc-45af-851e-f9f9f097aaa4",
   "metadata": {},
   "outputs": [
    {
     "name": "stdout",
     "output_type": "stream",
     "text": [
      "<class 'pandas.core.frame.DataFrame'>\n",
      "RangeIndex: 17414 entries, 0 to 17413\n",
      "Data columns (total 10 columns):\n",
      " #   Column        Non-Null Count  Dtype  \n",
      "---  ------        --------------  -----  \n",
      " 0   timestamp     17414 non-null  object \n",
      " 1   cnt           17414 non-null  int64  \n",
      " 2   t1            17414 non-null  float64\n",
      " 3   t2            17414 non-null  float64\n",
      " 4   hum           17414 non-null  float64\n",
      " 5   wind_speed    17414 non-null  float64\n",
      " 6   weather_code  17414 non-null  float64\n",
      " 7   is_holiday    17414 non-null  float64\n",
      " 8   is_weekend    17414 non-null  float64\n",
      " 9   season        17414 non-null  float64\n",
      "dtypes: float64(8), int64(1), object(1)\n",
      "memory usage: 1.3+ MB\n"
     ]
    }
   ],
   "source": [
    "bikes = pd.read_csv(\"london_merged.csv\")\n",
    "bikes.info()"
   ]
  },
  {
   "cell_type": "code",
   "execution_count": 43,
   "id": "2a25c417-2555-474a-9cc2-c19feeea28ec",
   "metadata": {},
   "outputs": [
    {
     "data": {
      "text/plain": [
       "<bound method NDFrame.head of                  timestamp   cnt   t1   t2    hum  wind_speed  weather_code  \\\n",
       "0      2015-01-04 00:00:00   182  3.0  2.0   93.0         6.0           3.0   \n",
       "1      2015-01-04 01:00:00   138  3.0  2.5   93.0         5.0           1.0   \n",
       "2      2015-01-04 02:00:00   134  2.5  2.5   96.5         0.0           1.0   \n",
       "3      2015-01-04 03:00:00    72  2.0  2.0  100.0         0.0           1.0   \n",
       "4      2015-01-04 04:00:00    47  2.0  0.0   93.0         6.5           1.0   \n",
       "...                    ...   ...  ...  ...    ...         ...           ...   \n",
       "17409  2017-01-03 19:00:00  1042  5.0  1.0   81.0        19.0           3.0   \n",
       "17410  2017-01-03 20:00:00   541  5.0  1.0   81.0        21.0           4.0   \n",
       "17411  2017-01-03 21:00:00   337  5.5  1.5   78.5        24.0           4.0   \n",
       "17412  2017-01-03 22:00:00   224  5.5  1.5   76.0        23.0           4.0   \n",
       "17413  2017-01-03 23:00:00   139  5.0  1.0   76.0        22.0           2.0   \n",
       "\n",
       "       is_holiday  is_weekend  season  \n",
       "0             0.0         1.0     3.0  \n",
       "1             0.0         1.0     3.0  \n",
       "2             0.0         1.0     3.0  \n",
       "3             0.0         1.0     3.0  \n",
       "4             0.0         1.0     3.0  \n",
       "...           ...         ...     ...  \n",
       "17409         0.0         0.0     3.0  \n",
       "17410         0.0         0.0     3.0  \n",
       "17411         0.0         0.0     3.0  \n",
       "17412         0.0         0.0     3.0  \n",
       "17413         0.0         0.0     3.0  \n",
       "\n",
       "[17414 rows x 10 columns]>"
      ]
     },
     "execution_count": 43,
     "metadata": {},
     "output_type": "execute_result"
    }
   ],
   "source": [
    "#Check first five rows\n",
    "bikes.head"
   ]
  },
  {
   "cell_type": "code",
   "execution_count": 45,
   "id": "23cf6ee9-d2a0-4c35-9126-67d0b6749a6a",
   "metadata": {},
   "outputs": [
    {
     "data": {
      "text/plain": [
       "weather_code\n",
       "1.0     6150\n",
       "2.0     4034\n",
       "3.0     3551\n",
       "7.0     2141\n",
       "4.0     1464\n",
       "26.0      60\n",
       "10.0      14\n",
       "Name: count, dtype: int64"
      ]
     },
     "execution_count": 45,
     "metadata": {},
     "output_type": "execute_result"
    }
   ],
   "source": [
    "#Count unique values of weather_code column\n",
    "bikes.weather_code.value_counts()"
   ]
  },
  {
   "cell_type": "code",
   "execution_count": 47,
   "id": "a7a1d21b-d174-422f-8fec-7b1f0f19204a",
   "metadata": {},
   "outputs": [
    {
     "data": {
      "text/plain": [
       "season\n",
       "0.0    4394\n",
       "1.0    4387\n",
       "3.0    4330\n",
       "2.0    4303\n",
       "Name: count, dtype: int64"
      ]
     },
     "execution_count": 47,
     "metadata": {},
     "output_type": "execute_result"
    }
   ],
   "source": [
    "#Count unique values of seasons column\n",
    "bikes.season.value_counts()"
   ]
  },
  {
   "cell_type": "code",
   "execution_count": 51,
   "id": "8cae1121-45c0-44a7-b3ef-2410cd88761d",
   "metadata": {},
   "outputs": [],
   "source": [
    "#Renaming the column  names\n",
    "new_cols_dict = {\n",
    "    'timestamp':\"time\",\n",
    "    \"cnt\":\"count\",\n",
    "    \"t1\":\"temp_real_c\",\n",
    "    \"t2\":\"temp_feels_like_c\",\n",
    "    \"hum\":\"humidity_percent\",\n",
    "    \"wind_speed\":\"wind_speed_kph\",\n",
    "    \"weather_code\":\"weather\",\n",
    "    \"is_holiday\":\"is_holiday\",\n",
    "    \"is_weekend\":\"is_weekend\",\n",
    "    \"season\":\"season\"\n",
    "}\n",
    "#Re-assigning column names\n",
    "bikes.rename(new_cols_dict, axis=1, inplace=True)"
   ]
  },
  {
   "cell_type": "code",
   "execution_count": 53,
   "id": "a27a1a29-b8de-4df7-bafd-4537293a0809",
   "metadata": {},
   "outputs": [],
   "source": [
    "#Changing humidity values to percentage\n",
    "bikes.humidity_percent = bikes.humidity_percent/100"
   ]
  },
  {
   "cell_type": "code",
   "execution_count": 55,
   "id": "37af7b1a-8870-404a-92dc-7108a83a47eb",
   "metadata": {},
   "outputs": [],
   "source": [
    "#Creating dictionary for season to show the actual seasons\n",
    "season_dict = {\n",
    "    \"0.0\":\"spring\",\n",
    "    \"1.0\":\"summer\",\n",
    "    \"2.0\":\"autum\",\n",
    "    \"3.0\":\"winter\"\n",
    "}\n",
    "#Creating weather dictionary to show the actual weather\n",
    "weather_dict = {\n",
    "    \"1.0\":\"clear\",\n",
    "    \"2.0\":\"scattered clouds\",\n",
    "    \"3.0\":\"broken clouds\",\n",
    "    \"4.0\":\"cloudy\",\n",
    "    \"7.0\":\"Rain\",\n",
    "    \"10.0\":\"Rain with thunderstorm\",\n",
    "    \"26.0\":\"snowfall\"\n",
    "}\n",
    "#change the season data type to string\n",
    "bikes.season = bikes.season.astype('str')\n",
    "# mapping the season dictionary\n",
    "bikes.season = bikes.season.map(season_dict)\n",
    "\n",
    "#change the weather data type to string\n",
    "bikes.weather = bikes.weather.astype('str')\n",
    "#mapping weather to to dictionary\n",
    "bikes.weather = bikes.weather.map(weather_dict)\n"
   ]
  },
  {
   "cell_type": "code",
   "execution_count": 57,
   "id": "70b2ee03-1800-477f-9344-da90ea753a77",
   "metadata": {},
   "outputs": [
    {
     "data": {
      "text/html": [
       "<div>\n",
       "<style scoped>\n",
       "    .dataframe tbody tr th:only-of-type {\n",
       "        vertical-align: middle;\n",
       "    }\n",
       "\n",
       "    .dataframe tbody tr th {\n",
       "        vertical-align: top;\n",
       "    }\n",
       "\n",
       "    .dataframe thead th {\n",
       "        text-align: right;\n",
       "    }\n",
       "</style>\n",
       "<table border=\"1\" class=\"dataframe\">\n",
       "  <thead>\n",
       "    <tr style=\"text-align: right;\">\n",
       "      <th></th>\n",
       "      <th>time</th>\n",
       "      <th>count</th>\n",
       "      <th>temp_real_c</th>\n",
       "      <th>temp_feels_like_c</th>\n",
       "      <th>humidity_percent</th>\n",
       "      <th>wind_speed_kph</th>\n",
       "      <th>weather</th>\n",
       "      <th>is_holiday</th>\n",
       "      <th>is_weekend</th>\n",
       "      <th>season</th>\n",
       "    </tr>\n",
       "  </thead>\n",
       "  <tbody>\n",
       "    <tr>\n",
       "      <th>0</th>\n",
       "      <td>2015-01-04 00:00:00</td>\n",
       "      <td>182</td>\n",
       "      <td>3.0</td>\n",
       "      <td>2.0</td>\n",
       "      <td>0.930</td>\n",
       "      <td>6.0</td>\n",
       "      <td>broken clouds</td>\n",
       "      <td>0.0</td>\n",
       "      <td>1.0</td>\n",
       "      <td>winter</td>\n",
       "    </tr>\n",
       "    <tr>\n",
       "      <th>1</th>\n",
       "      <td>2015-01-04 01:00:00</td>\n",
       "      <td>138</td>\n",
       "      <td>3.0</td>\n",
       "      <td>2.5</td>\n",
       "      <td>0.930</td>\n",
       "      <td>5.0</td>\n",
       "      <td>clear</td>\n",
       "      <td>0.0</td>\n",
       "      <td>1.0</td>\n",
       "      <td>winter</td>\n",
       "    </tr>\n",
       "    <tr>\n",
       "      <th>2</th>\n",
       "      <td>2015-01-04 02:00:00</td>\n",
       "      <td>134</td>\n",
       "      <td>2.5</td>\n",
       "      <td>2.5</td>\n",
       "      <td>0.965</td>\n",
       "      <td>0.0</td>\n",
       "      <td>clear</td>\n",
       "      <td>0.0</td>\n",
       "      <td>1.0</td>\n",
       "      <td>winter</td>\n",
       "    </tr>\n",
       "    <tr>\n",
       "      <th>3</th>\n",
       "      <td>2015-01-04 03:00:00</td>\n",
       "      <td>72</td>\n",
       "      <td>2.0</td>\n",
       "      <td>2.0</td>\n",
       "      <td>1.000</td>\n",
       "      <td>0.0</td>\n",
       "      <td>clear</td>\n",
       "      <td>0.0</td>\n",
       "      <td>1.0</td>\n",
       "      <td>winter</td>\n",
       "    </tr>\n",
       "    <tr>\n",
       "      <th>4</th>\n",
       "      <td>2015-01-04 04:00:00</td>\n",
       "      <td>47</td>\n",
       "      <td>2.0</td>\n",
       "      <td>0.0</td>\n",
       "      <td>0.930</td>\n",
       "      <td>6.5</td>\n",
       "      <td>clear</td>\n",
       "      <td>0.0</td>\n",
       "      <td>1.0</td>\n",
       "      <td>winter</td>\n",
       "    </tr>\n",
       "  </tbody>\n",
       "</table>\n",
       "</div>"
      ],
      "text/plain": [
       "                  time  count  temp_real_c  temp_feels_like_c  \\\n",
       "0  2015-01-04 00:00:00    182          3.0                2.0   \n",
       "1  2015-01-04 01:00:00    138          3.0                2.5   \n",
       "2  2015-01-04 02:00:00    134          2.5                2.5   \n",
       "3  2015-01-04 03:00:00     72          2.0                2.0   \n",
       "4  2015-01-04 04:00:00     47          2.0                0.0   \n",
       "\n",
       "   humidity_percent  wind_speed_kph        weather  is_holiday  is_weekend  \\\n",
       "0             0.930             6.0  broken clouds         0.0         1.0   \n",
       "1             0.930             5.0          clear         0.0         1.0   \n",
       "2             0.965             0.0          clear         0.0         1.0   \n",
       "3             1.000             0.0          clear         0.0         1.0   \n",
       "4             0.930             6.5          clear         0.0         1.0   \n",
       "\n",
       "   season  \n",
       "0  winter  \n",
       "1  winter  \n",
       "2  winter  \n",
       "3  winter  \n",
       "4  winter  "
      ]
     },
     "execution_count": 57,
     "metadata": {},
     "output_type": "execute_result"
    }
   ],
   "source": [
    "#Check weather the mapping works correctly\n",
    "bikes.head()"
   ]
  },
  {
   "cell_type": "code",
   "execution_count": 59,
   "id": "14950645-ac3c-443e-9c2c-b78f6d2d2d47",
   "metadata": {},
   "outputs": [],
   "source": [
    "#write the final data to an excel \n",
    "bikes.to_excel('london_bikes_final.xlsx', sheet_name = 'Data')"
   ]
  }
 ],
 "metadata": {
  "kernelspec": {
   "display_name": "Python 3 (ipykernel)",
   "language": "python",
   "name": "python3"
  },
  "language_info": {
   "codemirror_mode": {
    "name": "ipython",
    "version": 3
   },
   "file_extension": ".py",
   "mimetype": "text/x-python",
   "name": "python",
   "nbconvert_exporter": "python",
   "pygments_lexer": "ipython3",
   "version": "3.12.4"
  }
 },
 "nbformat": 4,
 "nbformat_minor": 5
}
