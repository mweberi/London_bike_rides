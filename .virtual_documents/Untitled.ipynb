


import pandas as pd





bikes = pd.read_csv("london_merged.csv")
bikes.info()


#Check first five rows
bikes.head


#Count unique values of weather_code column
bikes.weather_code.value_counts()


#Count unique values of seasons column
bikes.season.value_counts()


#Renaming the column  names
new_cols_dict = {
    'timestamp':"time",
    "cnt":"count",
    "t1":"temp_real_c",
    "t2":"temp_feels_like_c",
    "hum":"humidity_percent",
    "wind_speed":"wind_speed_kph",
    "weather_code":"weather",
    "is_holiday":"is_holiday",
    "is_weekend":"is_weekend",
    "season":"season"
}
#Re-assigning column names
bikes.rename(new_cols_dict, axis=1, inplace=True)


#Changing humidity values to percentage
bikes.humidity_percent = bikes.humidity_percent/100


#Creating dictionary for season to show the actual seasons
season_dict = {
    "0.0":"spring",
    "1.0":"summer",
    "2.0":"autum",
    "3.0":"winter"
}
#Creating weather dictionary to show the actual weather
weather_dict = {
    "1.0":"clear",
    "2.0":"scattered clouds",
    "3.0":"broken clouds",
    "4.0":"cloudy",
    "7.0":"Rain",
    "10.0":"Rain with thunderstorm",
    "26.0":"snowfall"
}
#change the season data type to string
bikes.season = bikes.season.astype('str')
# mapping the season dictionary
bikes.season = bikes.season.map(season_dict)

#change the weather data type to string
bikes.weather = bikes.weather.astype('str')
#mapping weather to to dictionary
bikes.weather = bikes.weather.map(weather_dict)



#Check weather the mapping works correctly
bikes.head()


#write the final data to an excel 
bikes.to_excel('london_bikes_final.xlsx', sheet_name = 'Data')
